{
 "cells": [
  {
   "cell_type": "code",
   "execution_count": 1,
   "metadata": {},
   "outputs": [],
   "source": [
    "import matplotlib.pyplot as plt\n",
    "from pennylane import numpy as np\n",
    "import pennylane as qml\n"
   ]
  },
  {
   "cell_type": "code",
   "execution_count": 26,
   "metadata": {},
   "outputs": [
    {
     "name": "stdout",
     "output_type": "stream",
     "text": [
      "Number of qubits =  16\n"
     ]
    }
   ],
   "source": [
    "dataset = qml.data.load(\"qspin\", sysname=\"Heisenberg\", periodicity=\"open\", lattice=\"chain\", layout=\"1x16\")[0]\n",
    "\n",
    "hamiltonian, qubits = dataset.hamiltonians[0], len(dataset.hamiltonians[0].wires)\n",
    "hamiltonian_coeffs, hamiltonian_ops = hamiltonian.terms()\n",
    "\n",
    "print(\"Number of qubits = \", qubits)"
   ]
  },
  {
   "cell_type": "code",
   "execution_count": 3,
   "metadata": {},
   "outputs": [
    {
     "data": {
      "text/plain": [
       "tensor([0.5, 0.5, 0.5, 0.5, 0.5, 0.5, 0.5, 0.5, 0.5, 0.5, 0.5, 0.5, 0. ,\n",
       "        0. , 0. , 0. ], requires_grad=True)"
      ]
     },
     "execution_count": 3,
     "metadata": {},
     "output_type": "execute_result"
    }
   ],
   "source": [
    "np.real(hamiltonian_coeffs)"
   ]
  },
  {
   "cell_type": "code",
   "execution_count": 4,
   "metadata": {},
   "outputs": [
    {
     "data": {
      "text/plain": [
       "[Y(0) @ Y(1),\n",
       " X(0) @ X(1),\n",
       " Y(2) @ Y(1),\n",
       " X(2) @ X(1),\n",
       " Y(3) @ Y(2),\n",
       " X(3) @ X(2),\n",
       " Y(5) @ Y(4),\n",
       " X(5) @ X(4),\n",
       " Y(6) @ Y(5),\n",
       " X(6) @ X(5),\n",
       " Y(7) @ Y(6),\n",
       " X(7) @ X(6),\n",
       " Z(0) @ Z(4),\n",
       " Z(1) @ Z(5),\n",
       " Z(2) @ Z(6),\n",
       " Z(3) @ Z(7)]"
      ]
     },
     "execution_count": 4,
     "metadata": {},
     "output_type": "execute_result"
    }
   ],
   "source": [
    "hamiltonian_ops"
   ]
  },
  {
   "cell_type": "code",
   "execution_count": 27,
   "metadata": {},
   "outputs": [],
   "source": [
    "dev = qml.device(\"default.qubit\", wires=qubits)\n",
    "\n",
    "#dev = qml.device(\"default.qubit\", wires=1)"
   ]
  },
  {
   "cell_type": "code",
   "execution_count": 28,
   "metadata": {},
   "outputs": [],
   "source": [
    "def circuit(params, wires=range(qubits)):\n",
    "    for i in wires:\n",
    "        qml.RY(params[i], wires=i)"
   ]
  },
  {
   "cell_type": "code",
   "execution_count": 29,
   "metadata": {},
   "outputs": [],
   "source": [
    "coeffs = hamiltonian_coeffs\n",
    "obs = hamiltonian_ops\n",
    "\n",
    "H = qml.Hamiltonian(coeffs, obs)\n",
    "\n",
    "@qml.qnode(dev, interface=\"autograd\")\n",
    "def cost_fn(params):\n",
    "    circuit(params)\n",
    "    return qml.expval(H)"
   ]
  },
  {
   "cell_type": "code",
   "execution_count": 30,
   "metadata": {},
   "outputs": [],
   "source": [
    "init_params = np.array(np.random.random(qubits), requires_grad=True)"
   ]
  },
  {
   "cell_type": "code",
   "execution_count": 31,
   "metadata": {},
   "outputs": [
    {
     "data": {
      "text/plain": [
       "tensor([0.23748623, 0.33720439, 0.65631903, 0.94791179, 0.76696281,\n",
       "        0.87470756, 0.54566772, 0.48609192, 0.49338135, 0.87187323,\n",
       "        0.9781409 , 0.43644348, 0.7524766 , 0.51149427, 0.20948569,\n",
       "        0.55401429], requires_grad=True)"
      ]
     },
     "execution_count": 31,
     "metadata": {},
     "output_type": "execute_result"
    }
   ],
   "source": [
    "init_params"
   ]
  },
  {
   "cell_type": "code",
   "execution_count": 32,
   "metadata": {},
   "outputs": [
    {
     "data": {
      "text/plain": [
       "tensor(-4.91624172, requires_grad=True)"
      ]
     },
     "execution_count": 32,
     "metadata": {},
     "output_type": "execute_result"
    }
   ],
   "source": [
    "cost_fn(init_params)"
   ]
  },
  {
   "cell_type": "code",
   "execution_count": 33,
   "metadata": {},
   "outputs": [],
   "source": [
    "max_iterations = 500\n",
    "conv_tol = 1e-06\n",
    "step_size = 0.01\n"
   ]
  },
  {
   "cell_type": "code",
   "execution_count": 37,
   "metadata": {},
   "outputs": [
    {
     "name": "stdout",
     "output_type": "stream",
     "text": [
      "Iteration = 0,  Energy = -5.03838072 Ha,  Convergence parameter = 0.12213900 Ha\n",
      "Iteration = 20,  Energy = -7.60732671 Ha,  Convergence parameter = 0.12994799 Ha\n",
      "Iteration = 40,  Energy = -10.05070902 Ha,  Convergence parameter = 0.11154785 Ha\n",
      "Iteration = 60,  Energy = -11.95240762 Ha,  Convergence parameter = 0.07949780 Ha\n",
      "Iteration = 80,  Energy = -13.21802309 Ha,  Convergence parameter = 0.04979506 Ha\n",
      "Iteration = 100,  Energy = -13.97977361 Ha,  Convergence parameter = 0.02896358 Ha\n",
      "Iteration = 120,  Energy = -14.41472960 Ha,  Convergence parameter = 0.01630689 Ha\n",
      "Iteration = 140,  Energy = -14.65866694 Ha,  Convergence parameter = 0.00914348 Ha\n",
      "Iteration = 160,  Energy = -14.79620931 Ha,  Convergence parameter = 0.00519953 Ha\n",
      "Iteration = 180,  Energy = -14.87528567 Ha,  Convergence parameter = 0.00302849 Ha\n",
      "Iteration = 200,  Energy = -14.92195135 Ha,  Convergence parameter = 0.00181285 Ha\n",
      "Iteration = 220,  Energy = -14.95024772 Ha,  Convergence parameter = 0.00111394 Ha\n",
      "Iteration = 240,  Energy = -14.96783189 Ha,  Convergence parameter = 0.00070001 Ha\n",
      "Iteration = 260,  Energy = -14.97898270 Ha,  Convergence parameter = 0.00044781 Ha\n",
      "Iteration = 280,  Energy = -14.98616546 Ha,  Convergence parameter = 0.00029034 Ha\n",
      "Iteration = 300,  Energy = -14.99084602 Ha,  Convergence parameter = 0.00019009 Ha\n",
      "Iteration = 320,  Energy = -14.99392137 Ha,  Convergence parameter = 0.00012531 Ha\n",
      "Iteration = 340,  Energy = -14.99595371 Ha,  Convergence parameter = 0.00008300 Ha\n",
      "Iteration = 360,  Energy = -14.99730214 Ha,  Convergence parameter = 0.00005515 Ha\n",
      "Iteration = 380,  Energy = -14.99819921 Ha,  Convergence parameter = 0.00003673 Ha\n",
      "Iteration = 400,  Energy = -14.99879711 Ha,  Convergence parameter = 0.00002450 Ha\n",
      "Iteration = 420,  Energy = -14.99919610 Ha,  Convergence parameter = 0.00001636 Ha\n",
      "Iteration = 440,  Energy = -14.99946257 Ha,  Convergence parameter = 0.00001093 Ha\n",
      "Iteration = 460,  Energy = -14.99964063 Ha,  Convergence parameter = 0.00000730 Ha\n",
      "Iteration = 480,  Energy = -14.99975966 Ha,  Convergence parameter = 0.00000488 Ha\n",
      "\n",
      "Final value of the energy = -14.99983599 Ha\n",
      "Number of iterations =  499\n"
     ]
    }
   ],
   "source": [
    "opt = qml.GradientDescentOptimizer(stepsize=step_size)\n",
    "\n",
    "params = init_params\n",
    "\n",
    "gd_param_history = [params]\n",
    "gd_cost_history = []\n",
    "\n",
    "for n in range(max_iterations):\n",
    "\n",
    "    # Take step\n",
    "    params, prev_energy = opt.step_and_cost(cost_fn, params)\n",
    "    gd_param_history.append(params)\n",
    "    gd_cost_history.append(prev_energy)\n",
    "\n",
    "    energy = cost_fn(params)\n",
    "\n",
    "    # Calculate difference between new and old energies\n",
    "    conv = np.abs(energy - prev_energy)\n",
    "\n",
    "    if n % 20 == 0:\n",
    "        print(\n",
    "            \"Iteration = {:},  Energy = {:.8f} Ha,  Convergence parameter = {\"\n",
    "            \":.8f} Ha\".format(n, energy, conv)\n",
    "        )\n",
    "\n",
    "    if conv <= conv_tol:\n",
    "        break\n",
    "\n",
    "print()\n",
    "print(\"Final value of the energy = {:.8f} Ha\".format(energy))\n",
    "print(\"Number of iterations = \", n)"
   ]
  },
  {
   "cell_type": "code",
   "execution_count": 35,
   "metadata": {},
   "outputs": [
    {
     "name": "stdout",
     "output_type": "stream",
     "text": [
      "Iteration = 0,  Energy = -5.40750018 Ha,  Convergence parameter = 0.49125847 Ha\n",
      "Iteration = 20,  Energy = -13.37876632 Ha,  Convergence parameter = 0.19205444 Ha\n",
      "Iteration = 40,  Energy = -14.81673006 Ha,  Convergence parameter = 0.01943921 Ha\n",
      "Iteration = 60,  Energy = -14.97096564 Ha,  Convergence parameter = 0.00262286 Ha\n",
      "Iteration = 80,  Energy = -14.99458322 Ha,  Convergence parameter = 0.00046632 Ha\n",
      "Iteration = 100,  Energy = -14.99895088 Ha,  Convergence parameter = 0.00008944 Ha\n",
      "Iteration = 120,  Energy = -14.99979536 Ha,  Convergence parameter = 0.00001742 Ha\n",
      "Iteration = 140,  Energy = -14.99996003 Ha,  Convergence parameter = 0.00000340 Ha\n",
      "\n",
      "Final value of the energy = -14.99998826 Ha\n",
      "Number of iterations =  155\n"
     ]
    }
   ],
   "source": [
    "opt = qml.QNGOptimizer()\n",
    "\n",
    "params = init_params\n",
    "\n",
    "qngd_param_history = [params]\n",
    "qngd_cost_history = []\n",
    "\n",
    "for n in range(max_iterations):\n",
    "\n",
    "    # Take step\n",
    "    params, prev_energy = opt.step_and_cost(cost_fn, params)\n",
    "    qngd_param_history.append(params)\n",
    "    qngd_cost_history.append(prev_energy)\n",
    "\n",
    "    # Compute energy\n",
    "    energy = cost_fn(params)\n",
    "\n",
    "    # Calculate difference between new and old energies\n",
    "    conv = np.abs(energy - prev_energy)\n",
    "\n",
    "    if n % 20 == 0:\n",
    "        print(\n",
    "            \"Iteration = {:},  Energy = {:.8f} Ha,  Convergence parameter = {\"\n",
    "            \":.8f} Ha\".format(n, energy, conv)\n",
    "        )\n",
    "\n",
    "    if conv <= conv_tol:\n",
    "        break\n",
    "\n",
    "print()\n",
    "print(\"Final value of the energy = {:.8f} Ha\".format(energy))\n",
    "print(\"Number of iterations = \", n)"
   ]
  },
  {
   "cell_type": "code",
   "execution_count": 38,
   "metadata": {},
   "outputs": [
    {
     "name": "stdout",
     "output_type": "stream",
     "text": [
      "Iteration = 0,  Energy = -5.04875290 Ha,  Convergence parameter = 0.13251118 Ha\n",
      "Iteration = 20,  Energy = -7.82139404 Ha,  Convergence parameter = 0.14071100 Ha\n",
      "Iteration = 40,  Energy = -10.49787931 Ha,  Convergence parameter = 0.12337141 Ha\n",
      "Iteration = 60,  Energy = -12.59392699 Ha,  Convergence parameter = 0.08631852 Ha\n",
      "Iteration = 80,  Energy = -13.91065216 Ha,  Convergence parameter = 0.04855346 Ha\n",
      "Iteration = 100,  Energy = -14.58386640 Ha,  Convergence parameter = 0.02232430 Ha\n",
      "Iteration = 120,  Energy = -14.86690749 Ha,  Convergence parameter = 0.00842560 Ha\n",
      "Iteration = 140,  Energy = -14.96481644 Ha,  Convergence parameter = 0.00260185 Ha\n",
      "Iteration = 160,  Energy = -14.99248357 Ha,  Convergence parameter = 0.00064858 Ha\n",
      "Iteration = 180,  Energy = -14.99876033 Ha,  Convergence parameter = 0.00012707 Ha\n",
      "Iteration = 200,  Energy = -14.99985918 Ha,  Convergence parameter = 0.00001809 Ha\n",
      "Iteration = 220,  Energy = -14.99999159 Ha,  Convergence parameter = 0.00000149 Ha\n",
      "\n",
      "Final value of the energy = -14.99999492 Ha\n",
      "Number of iterations =  223\n"
     ]
    }
   ],
   "source": [
    "opt = qml.AdamOptimizer()\n",
    "\n",
    "params = init_params\n",
    "\n",
    "adam_param_history = [params]\n",
    "adam_cost_history = []\n",
    "\n",
    "for n in range(max_iterations):\n",
    "\n",
    "    # Take step\n",
    "    params, prev_energy = opt.step_and_cost(cost_fn, params)\n",
    "    adam_param_history.append(params)\n",
    "    adam_cost_history.append(prev_energy)\n",
    "\n",
    "    energy = cost_fn(params)\n",
    "\n",
    "    # Calculate difference between new and old energies\n",
    "    conv = np.abs(energy - prev_energy)\n",
    "\n",
    "    if n % 20 == 0:\n",
    "        print(\n",
    "            \"Iteration = {:},  Energy = {:.8f} Ha,  Convergence parameter = {\"\n",
    "            \":.8f} Ha\".format(n, energy, conv)\n",
    "        )\n",
    "\n",
    "    if conv <= conv_tol:\n",
    "        break\n",
    "\n",
    "print()\n",
    "print(\"Final value of the energy = {:.8f} Ha\".format(energy))\n",
    "print(\"Number of iterations = \", n)"
   ]
  },
  {
   "cell_type": "code",
   "execution_count": 41,
   "metadata": {},
   "outputs": [
    {
     "data": {
      "image/png": "[encoded data removed]",
      "text/plain": [
       "<Figure size 800x550 with 1 Axes>"
      ]
     },
     "metadata": {},
     "output_type": "display_data"
    }
   ],
   "source": [
    "plt.style.use(\"seaborn-v0_8\")\n",
    "plt.plot(gd_cost_history, \"b\", label=\"Gradient descent\")\n",
    "plt.plot(qngd_cost_history, \"g\", label=\"Quantum natural gradient descent\")\n",
    "plt.plot(adam_cost_history, \"r\", label=\"Adam gradient descent\")\n",
    "\n",
    "\n",
    "plt.ylabel(\"Cost function value\")\n",
    "plt.xlabel(\"Optimization steps\")\n",
    "plt.legend()\n",
    "plt.show()\n"
   ]
  },
  {
   "cell_type": "code",
   "execution_count": null,
   "metadata": {},
   "outputs": [],
   "source": []
  }
 ],
 "metadata": {
  "kernelspec": {
   "display_name": "penn_venv",
   "language": "python",
   "name": "python3"
  },
  "language_info": {
   "codemirror_mode": {
    "name": "ipython",
    "version": 3
   },
   "file_extension": ".py",
   "mimetype": "text/x-python",
   "name": "python",
   "nbconvert_exporter": "python",
   "pygments_lexer": "ipython3",
   "version": "3.11.6"
  }
 },
 "nbformat": 4,
 "nbformat_minor": 2
}
